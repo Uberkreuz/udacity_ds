{
 "cells": [
  {
   "cell_type": "markdown",
   "id": "8280950b",
   "metadata": {},
   "source": [
    "# Project: Data Science Blog Post based on an Airbnb Berlin Data Set\n",
    "\n",
    "## 1. Business Understanding\n",
    "\n",
    "In this project an Airbnb Berlin data set wil be analyzed. The following questions shall be answered:\n",
    "\n",
    "- 1. How do price densities and distributions differ in disctricts and what does that tell us?\n",
    "- 2. Are there places to book at the periphery of Berlin and where can the most expensive places be found?\n",
    "- 3. What are the districts with most listings?\n",
    "\n",
    "## 2. Data Understanding\n",
    "\n",
    "### 2.1 Gather Data"
   ]
  },
  {
   "cell_type": "code",
   "execution_count": null,
   "id": "6d844730",
   "metadata": {
    "scrolled": true
   },
   "outputs": [],
   "source": [
    "# Import and adjust necessary libraries\n",
    "import numpy as np\n",
    "import pandas as pd\n",
    "import matplotlib.pyplot as plt\n",
    "import seaborn as sns\n",
    "%matplotlib inline\n",
    "\n",
    "# Load chosen data set\n",
    "df = pd.read_csv('./listings_summary.csv')"
   ]
  },
  {
   "cell_type": "markdown",
   "id": "1c16a22f",
   "metadata": {},
   "source": [
    "### 2.2 Assess Data"
   ]
  },
  {
   "cell_type": "code",
   "execution_count": null,
   "id": "f1690d23",
   "metadata": {},
   "outputs": [],
   "source": [
    "# Take a first look at the data\n",
    "df.head()"
   ]
  },
  {
   "cell_type": "markdown",
   "id": "51abd649",
   "metadata": {},
   "source": [
    "## 3. Prepare Data\n",
    "\n",
    "### 3.1 Clean Data"
   ]
  },
  {
   "cell_type": "code",
   "execution_count": null,
   "id": "5460539a",
   "metadata": {},
   "outputs": [],
   "source": [
    "# Create data frame with only columns that are of interest for our investigation.\n",
    "df = df.filter(['neighbourhood_group','latitude','longitude','price'], axis=1)\n",
    "\n",
    "# Create data frame with price values more than 20 Euros and less than 200 Euros. Thus extremes are not considered.\n",
    "df = df[(df.price>20) & (df.price<200)]\n",
    "\n",
    "# Check if columns contain missing data.\n",
    "df.isnull().sum()"
   ]
  },
  {
   "cell_type": "markdown",
   "id": "6719a4af",
   "metadata": {},
   "source": [
    "Columns of interest do not contain missing values. Thus there is no further need for data cleaning.\n",
    "\n",
    "## 4. Evaluation\n",
    "\n",
    "### 4.1. How do price densities and distributions differ in disctricts and what does that tell us?\n",
    "\n",
    "#### 4.1.1 Analyze and Visualize Data"
   ]
  },
  {
   "cell_type": "code",
   "execution_count": null,
   "id": "f6a16bab",
   "metadata": {
    "scrolled": false
   },
   "outputs": [],
   "source": [
    "# Use violinplot to show price density and distribution\n",
    "violins=sns.violinplot(data=df, x='neighbourhood_group', y='price')\n",
    "violins.set_xticklabels(violins.get_xticklabels(), rotation=90)\n",
    "violins.set_title('Price density and distribution per district');"
   ]
  },
  {
   "cell_type": "markdown",
   "id": "8450eaf4",
   "metadata": {},
   "source": [
    "#### 4.1.2. Interpretation of violin plot:\n",
    "- Many expensive objects can found in central and expensive districts such as Mitte, Charlottenburg-Wilmersdorf and Pankow.\n",
    "- Although containing central and lively neighbourhoods, many rather cheap places can be found in Neukölln.\n",
    "\n",
    "### 4.2. Are there places to book at the periphery of Berlin and where can the most expensive places be found?\n",
    "\n",
    "#### 4.2.1 Let's draw a scatter plot to show the geographic distribution of expensive and less expensive Airbnb places within Berlin"
   ]
  },
  {
   "cell_type": "code",
   "execution_count": null,
   "id": "1d534018",
   "metadata": {
    "scrolled": false
   },
   "outputs": [],
   "source": [
    "# Calculate the height-width-ratio to draw a map with correct proportions\n",
    "spread_longitude = max(df['longitude']) - min(df['longitude'])\n",
    "spread_latitude  = max(df['latitude'])  - min(df['latitude'])\n",
    "ratio = spread_longitude / spread_latitude\n",
    "size = 8\n",
    "\n",
    "# Draw a map with scatter plot\n",
    "scatter = df.plot(kind='scatter', \n",
    "                 x='longitude', \n",
    "                 y='latitude', \n",
    "                 c='price', \n",
    "                 cmap=plt.get_cmap('flare'), \n",
    "                 figsize=(ratio*size, size))"
   ]
  },
  {
   "cell_type": "markdown",
   "id": "c1f1ecc2",
   "metadata": {},
   "source": [
    "#### 4.2.2. Interpretation of scatter plot:\n",
    "\n",
    "- According to the map there are several places to book at the periphery of Berlin.\n",
    "- The most expensive places can be found in central neighbourhoods. \n",
    "- Nonetheless you can also find expensive places at the periphery.\n",
    "\n",
    "### 4.3. What are the districts with most listings?\n",
    "\n",
    "#### 4.3.1 Let's draw a horizontal bar chart to answer that question"
   ]
  },
  {
   "cell_type": "code",
   "execution_count": null,
   "id": "ffe50600",
   "metadata": {
    "scrolled": false
   },
   "outputs": [],
   "source": [
    "# Define the plotting function\n",
    "def draw_horizontal_bars(column_name, title, x_label):\n",
    "    '''\n",
    "    This function counts the values of a given column, \n",
    "    sort is from top to bottom and draws a horizonzal bar chart.\n",
    "    \n",
    "    Input:\n",
    "        column name, chart title, x axis label\n",
    "    Output:\n",
    "        bar chart\n",
    "    '''\n",
    "    listings = df[column_name].value_counts().sort_values(ascending=True)\n",
    "    listings.plot.barh()\n",
    "    plt.title(title)\n",
    "    plt.xlabel(x_label)\n",
    "    plt.show()\n",
    "    \n",
    "# Call function\n",
    "column_name = 'neighbourhood_group'\n",
    "title = \"Listings by district\"\n",
    "x_label = 'Listings'\n",
    "\n",
    "draw_horizontal_bars(column_name, title, x_label)"
   ]
  },
  {
   "cell_type": "markdown",
   "id": "f67b3e5b",
   "metadata": {},
   "source": [
    "#### 4.3.2 Interpretation of bar plot:\n",
    "- The district with most listings is Friedrichshain-Kreuzberg, followed by other districts with central neighbourhoods. \n",
    "- Periphery districts have far less listings."
   ]
  }
 ],
 "metadata": {
  "kernelspec": {
   "display_name": "Python 3 (ipykernel)",
   "language": "python",
   "name": "python3"
  },
  "language_info": {
   "codemirror_mode": {
    "name": "ipython",
    "version": 3
   },
   "file_extension": ".py",
   "mimetype": "text/x-python",
   "name": "python",
   "nbconvert_exporter": "python",
   "pygments_lexer": "ipython3",
   "version": "3.9.13"
  }
 },
 "nbformat": 4,
 "nbformat_minor": 5
}
